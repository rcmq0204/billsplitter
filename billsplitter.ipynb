{
 "cells": [
  {
   "cell_type": "code",
   "execution_count": 5,
   "id": "ecd04b4e",
   "metadata": {},
   "outputs": [
    {
     "name": "stdout",
     "output_type": "stream",
     "text": [
      "Enter GST here (eg: if GST is 8%, enter 8. If NA enter 0): 8\n",
      "Enter SVC here (eg: if SVC is 10% enter 10. If NA enter 0): 10\n"
     ]
    }
   ],
   "source": [
    "gst=float(input('Enter GST here (eg: if GST is 8%, enter 8. If NA enter 0): '))\n",
    "svc=float(input('Enter SVC here (eg: if SVC is 10% enter 10. If NA enter 0): '))"
   ]
  },
  {
   "cell_type": "code",
   "execution_count": 9,
   "id": "ddfd6ab9",
   "metadata": {},
   "outputs": [
    {
     "name": "stdout",
     "output_type": "stream",
     "text": [
      "Enter no. of food items in receipt: 13\n",
      "Enter price of first food item here: 14\n",
      "Enter the number of people who ate this food item: 3\n",
      "Enter the first name of the person who ate this: r\n",
      "Enter the next name of the person who ate this: cmy\n",
      "Enter the last name of the person who ate this: val\n",
      "Enter price next food item here :5\n",
      "Enter the number of people who ate this food item: 1\n",
      "Enter the first name of the person who ate this: val\n",
      "Enter price next food item here :9.5\n",
      "Enter the number of people who ate this food item: 1\n",
      "Enter the first name of the person who ate this: val\n",
      "Enter price next food item here :8\n",
      "Enter the number of people who ate this food item: 2\n",
      "Enter the first name of the person who ate this: r\n",
      "Enter the last name of the person who ate this: cmy\n",
      "Enter price next food item here :12\n",
      "Enter the number of people who ate this food item: 3\n",
      "Enter the first name of the person who ate this: r\n",
      "Enter the next name of the person who ate this: cmy\n",
      "Enter the last name of the person who ate this: val\n",
      "Enter price next food item here :12\n",
      "Enter the number of people who ate this food item: 2\n",
      "Enter the first name of the person who ate this: r\n",
      "Enter the last name of the person who ate this: cmy\n",
      "Enter price next food item here :6\n",
      "Enter the number of people who ate this food item: 2\n",
      "Enter the first name of the person who ate this: r\n",
      "Enter the last name of the person who ate this: cmy\n",
      "Enter price next food item here :18\n",
      "Enter the number of people who ate this food item: 2\n",
      "Enter the first name of the person who ate this: r\n",
      "Enter the last name of the person who ate this: cmy\n",
      "Enter price next food item here :4\n",
      "Enter the number of people who ate this food item: 2\n",
      "Enter the first name of the person who ate this: r\n",
      "Enter the last name of the person who ate this: cmy\n",
      "Enter price next food item here :5.33\n",
      "Enter the number of people who ate this food item: 1\n",
      "Enter the first name of the person who ate this: val\n",
      "Enter price next food item here :8.17\n",
      "Enter the number of people who ate this food item: 2\n",
      "Enter the first name of the person who ate this: r\n",
      "Enter the last name of the person who ate this: cmy\n",
      "Enter price next food item here :6.5\n",
      "Enter the number of people who ate this food item: 2\n",
      "Enter the first name of the person who ate this: r\n",
      "Enter the last name of the person who ate this: cmy\n",
      "Enter price of last food item here :6\n",
      "Enter the number of people who ate this food item: 2\n",
      "Enter the first name of the person who ate this: r\n",
      "Enter the last name of the person who ate this: val\n"
     ]
    }
   ],
   "source": [
    "foodno=int(input('Enter no. of food items in receipt: '))\n",
    "np={}\n",
    "i=0\n",
    "while i<foodno:\n",
    "    if i==0:\n",
    "        price=float(input('Enter price of first food item here: '))\n",
    "    elif i==foodno-1:\n",
    "        price=float(input('Enter price of last food item here :'))\n",
    "    else:\n",
    "        price=float(input('Enter price next food item here :'))\n",
    "    eatno=int(input('Enter the number of people who ate this food item: '))\n",
    "    fppp=price/eatno\n",
    "    j=0\n",
    "    while j<eatno:\n",
    "        if j==0:\n",
    "            name=str(input('Enter the first name of the person who ate this: '))\n",
    "        elif j==eatno-1:\n",
    "            name=str(input('Enter the last name of the person who ate this: '))\n",
    "        else:\n",
    "            name=str(input('Enter the next name of the person who ate this: '))\n",
    "        if name in np:\n",
    "            np[name]=np[name]+fppp\n",
    "        else:\n",
    "            np[name]=fppp\n",
    "        j=j+1\n",
    "    i=i+1         "
   ]
  },
  {
   "cell_type": "code",
   "execution_count": 10,
   "id": "bcf14d93",
   "metadata": {},
   "outputs": [
    {
     "name": "stdout",
     "output_type": "stream",
     "text": [
      "{'r': 51.09, 'cmy': 47.52, 'val': 37.42}\n"
     ]
    }
   ],
   "source": [
    "for key in np:\n",
    "    np[key]=round(np[key]*(1+gst/100)*(1+svc/100),2)\n",
    "print(np)"
   ]
  },
  {
   "cell_type": "code",
   "execution_count": null,
   "id": "03bda137",
   "metadata": {},
   "outputs": [],
   "source": []
  }
 ],
 "metadata": {
  "kernelspec": {
   "display_name": "Python 3 (ipykernel)",
   "language": "python",
   "name": "python3"
  },
  "language_info": {
   "codemirror_mode": {
    "name": "ipython",
    "version": 3
   },
   "file_extension": ".py",
   "mimetype": "text/x-python",
   "name": "python",
   "nbconvert_exporter": "python",
   "pygments_lexer": "ipython3",
   "version": "3.8.8"
  }
 },
 "nbformat": 4,
 "nbformat_minor": 5
}
