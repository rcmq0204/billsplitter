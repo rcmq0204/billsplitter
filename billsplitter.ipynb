{
 "cells": [
  {
   "cell_type": "code",
   "execution_count": 5,
   "id": "ecd04b4e",
   "metadata": {},
   "outputs": [
    {
     "name": "stdout",
     "output_type": "stream",
     "text": [
      "Enter GST here (eg: if GST is 8%, enter 8. If NA enter 0): 8\n",
      "Enter SVC here (eg: if SVC is 10% enter 10. If NA enter 0): 10\n"
     ]
    }
   ],
   "source": [
    "gst=float(input('Enter GST here (eg: if GST is 8%, enter 8. If NA enter 0): '))\n",
    "svc=float(input('Enter SVC here (eg: if SVC is 10% enter 10. If NA enter 0): '))"
   ]
  },
  {
   "cell_type": "code",
   "execution_count": 9,
   "id": "ddfd6ab9",
   "metadata": {},
   "outputs": [
    {
     "name": "stdout",
     "output_type": "stream",
     "text": [
      "Enter no. of food items in receipt: 13\n",
      "Enter price of first food item here: 14\n",
      "Enter the number of people who ate this food item: 3\n",
      "Enter the first name of the person who ate this: r\n",
      "Enter the next name of the person who ate this: cmy\n",
      "Enter the last name of the person who ate this: val\n",
      "Enter price next food item here :5\n",
      "Enter the number of people who ate this food item: 1\n",
      "Enter the first name of the person who ate this: val\n",
      "Enter price next food item here :9.5\n",
      "Enter the number of people who ate this food item: 1\n",
      "Enter the first name of the person who ate this: val\n",
      "Enter price next food item here :8\n",
      "Enter the number of people who ate this food item: 2\n",
      "Enter the first name of the person who ate this: r\n",
      "Enter the last name of the person who ate this: cmy\n",
      "Enter price next food item here :12\n",
      "Enter the number of people who ate this food item: 3\n",
      "Enter the first name of the person who ate this: r\n",
      "Enter the next name of the person who ate this: cmy\n",
      "Enter the last name of the person who ate this: val\n",
      "Enter price next food item here :12\n",
      "Enter the number of people who ate this food item: 2\n",
      "Enter the first name of the person who ate this: r\n",
      "Enter the last name of the person who ate this: cmy\n",
      "Enter price next food item here :6\n",
      "Enter the number of people who ate this food item: 2\n",
      "Enter the first name of the person who ate this: r\n",
      "Enter the last name of the person who ate this: cmy\n",
      "Enter price next food item here :18\n",
      "Enter the number of people who ate this food item: 2\n",
      "Enter the first name of the person who ate this: r\n",
      "Enter the last name of the person who ate this: cmy\n",
      "Enter price next food item here :4\n",
      "Enter the number of people who ate this food item: 2\n",
      "Enter the first name of the person who ate this: r\n",
      "Enter the last name of the person who ate this: cmy\n",
      "Enter price next food item here :5.33\n",
      "Enter the number of people who ate this food item: 1\n",
      "Enter the first name of the person who ate this: val\n",
      "Enter price next food item here :8.17\n",
      "Enter the number of people who ate this food item: 2\n",
      "Enter the first name of the person who ate this: r\n",
      "Enter the last name of the person who ate this: cmy\n",
      "Enter price next food item here :6.5\n",
      "Enter the number of people who ate this food item: 2\n",
      "Enter the first name of the person who ate this: r\n",
      "Enter the last name of the person who ate this: cmy\n",
      "Enter price of last food item here :6\n",
      "Enter the number of people who ate this food item: 2\n",
      "Enter the first name of the person who ate this: r\n",
      "Enter the last name of the person who ate this: val\n"
     ]
    }
   ],
   "source": [
    "foodno=int(input('Enter no. of food items in receipt: '))\n",
    "np={}\n",
    "i=0\n",
    "while i<foodno:\n",
    "    if i==0:\n",
    "        price=float(input('Enter price of first food item here: '))\n",
    "    elif i==foodno-1:\n",
    "        price=float(input('Enter price of last food item here :'))\n",
    "    else:\n",
    "        price=float(input('Enter price next food item here :'))\n",
    "    eatno=int(input('Enter the number of people who ate this food item: '))\n",
    "    fppp=price/eatno\n",
    "    j=0\n",
    "    while j<eatno:\n",
    "        if j==0:\n",
    "            name=str(input('Enter the first name of the person who ate this: '))\n",
    "        elif j==eatno-1:\n",
    "            name=str(input('Enter the last name of the person who ate this: '))\n",
    "        else:\n",
    "            name=str(input('Enter the next name of the person who ate this: '))\n",
    "        if name in np:\n",
    "            np[name]=np[name]+fppp\n",
    "        else:\n",
    "            np[name]=fppp\n",
    "        j=j+1\n",
    "    i=i+1         "
   ]
  },
  {
   "cell_type": "code",
   "execution_count": 10,
   "id": "bcf14d93",
   "metadata": {},
   "outputs": [
    {
     "name": "stdout",
     "output_type": "stream",
     "text": [
      "{'r': 51.09, 'cmy': 47.52, 'val': 37.42}\n"
     ]
    }
   ],
   "source": [
    "for key in np:\n",
    "    np[key]=round(np[key]*(1+gst/100)*(1+svc/100),2)\n",
    "print(np)"
   ]
  },
  {
   "cell_type": "code",
   "execution_count": 1,
   "id": "03bda137",
   "metadata": {},
   "outputs": [
    {
     "data": {
      "text/html": [
       "<div>\n",
       "<style scoped>\n",
       "    .dataframe tbody tr th:only-of-type {\n",
       "        vertical-align: middle;\n",
       "    }\n",
       "\n",
       "    .dataframe tbody tr th {\n",
       "        vertical-align: top;\n",
       "    }\n",
       "\n",
       "    .dataframe thead th {\n",
       "        text-align: right;\n",
       "    }\n",
       "</style>\n",
       "<table border=\"1\" class=\"dataframe\">\n",
       "  <thead>\n",
       "    <tr style=\"text-align: right;\">\n",
       "      <th></th>\n",
       "      <th>food no</th>\n",
       "      <th>robert</th>\n",
       "      <th>val</th>\n",
       "      <th>my</th>\n",
       "    </tr>\n",
       "  </thead>\n",
       "  <tbody>\n",
       "    <tr>\n",
       "      <th>0</th>\n",
       "      <td>1</td>\n",
       "      <td>10</td>\n",
       "      <td>3</td>\n",
       "      <td>1</td>\n",
       "    </tr>\n",
       "    <tr>\n",
       "      <th>1</th>\n",
       "      <td>2</td>\n",
       "      <td>5</td>\n",
       "      <td>4</td>\n",
       "      <td>2</td>\n",
       "    </tr>\n",
       "    <tr>\n",
       "      <th>2</th>\n",
       "      <td>3</td>\n",
       "      <td>4</td>\n",
       "      <td>5</td>\n",
       "      <td>3</td>\n",
       "    </tr>\n",
       "  </tbody>\n",
       "</table>\n",
       "</div>"
      ],
      "text/plain": [
       "   food no  robert  val  my\n",
       "0        1      10    3   1\n",
       "1        2       5    4   2\n",
       "2        3       4    5   3"
      ]
     },
     "execution_count": 1,
     "metadata": {},
     "output_type": "execute_result"
    }
   ],
   "source": [
    "import pandas as pd\n",
    "test={'food no':[1,2,3],\n",
    "     'robert':[10,5,4],\n",
    "     'val':[3,4,5],\n",
    "     'my':[1,2,3]}\n",
    "test_df=pd.DataFrame(test)\n",
    "test_df"
   ]
  },
  {
   "cell_type": "code",
   "execution_count": 3,
   "id": "61f5afb6",
   "metadata": {},
   "outputs": [
    {
     "data": {
      "text/plain": [
       "[1, 2]"
      ]
     },
     "execution_count": 3,
     "metadata": {},
     "output_type": "execute_result"
    }
   ],
   "source": [
    "del test['food no'][-1]\n",
    "test['food no']"
   ]
  },
  {
   "cell_type": "code",
   "execution_count": null,
   "id": "b53c836e",
   "metadata": {},
   "outputs": [],
   "source": []
  }
 ],
 "metadata": {
  "kernelspec": {
   "display_name": "Python 3 (ipykernel)",
   "language": "python",
   "name": "python3"
  },
  "language_info": {
   "codemirror_mode": {
    "name": "ipython",
    "version": 3
   },
   "file_extension": ".py",
   "mimetype": "text/x-python",
   "name": "python",
   "nbconvert_exporter": "python",
   "pygments_lexer": "ipython3",
   "version": "3.8.8"
  }
 },
 "nbformat": 4,
 "nbformat_minor": 5
}
